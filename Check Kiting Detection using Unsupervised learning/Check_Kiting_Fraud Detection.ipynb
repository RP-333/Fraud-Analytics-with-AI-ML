{
 "cells": [
  {
   "cell_type": "markdown",
   "id": "cf03e16d-a443-40c5-9aa4-e3999fb63364",
   "metadata": {
    "id": "b27976d3-c55c-4944-9692-0aef34312282"
   },
   "source": [
    "# Proof of Concept: Unsupervised Anomaly Detection for Check Kiting Fraud\n",
    "\n",
    "## Business Context\n",
    "\n",
    "Check kiting is a fraudulent scheme in which individuals exploit the delay in check clearance—known as \"float\"—to create artificially inflated account balances. This is typically done by writing checks between multiple accounts and rapidly moving funds before the original checks clear. These behaviors are subtle, fast-moving, and difficult to detect using traditional rule-based systems or supervised models, which often rely on labeled fraud data.\n",
    "\n",
    "In real-world banking environments, labeled fraud data may be sparse or delayed. Unsupervised anomaly detection allows institutions to identify suspicious behavioral patterns based on deviations from expected norms—making it a valuable tool in early-stage fraud detection and financial crime prevention.\n",
    "\n",
    "## Business Goal\n",
    "\n",
    "The objective of this project is to simulate a real-world fraud analytics workflow using unsupervised learning to detect potential check kiting behavior. We apply an Isolation Forest model to flag anomalous transactions or accounts based on patterns such as transaction velocity, transfer frequency, and irregular timing—without using any fraud labels during training.\n",
    "\n",
    "This approach aims to prioritize cases for investigation and enhance early fraud detection in environments where labeled fraud examples are not available.\n",
    "\n",
    "## Dataset Overview\n",
    "\n",
    "We use the **BankSim Synthetic Dataset**, which simulates real-world banking transactions and includes features such as customer IDs, transaction time steps, amounts, and merchant categories.\n",
    "\n",
    "| Feature        | Description                                                 |\n",
    "|----------------|-------------------------------------------------------------|\n",
    "| `step`         | Time of transaction (in hours since start of simulation)    |\n",
    "| `customer`     | Unique anonymized customer ID                               |\n",
    "| `age`, `gender`| Customer demographic features                               |\n",
    "| `merchant`     | Receiving merchant                                           |\n",
    "| `category`     | Transaction category (e.g., bills, travel, transfer)        |\n",
    "| `amount`       | Transaction amount                                           |\n",
    "| `fraud`        | Binary label: 0 = legitimate, 1 = fraud (used for evaluation only) |\n",
    "\n",
    "> Note: While the dataset includes a `fraud` column, it is **not used during model training**. It is only used for post-model evaluation to benchmark anomaly detection performance.\n",
    "\n",
    "> This dataset is sourced from a public Kaggle repository and is fully synthetic — no real customer data is used.\n",
    "\n",
    "## Tools and Techniques\n",
    "\n",
    "- **Python** (Pandas, NumPy): For data preprocessing and feature engineering  \n",
    "- **Matplotlib / Seaborn**: For exploratory data analysis and visualizations  \n",
    "- **Scikit-learn**: For building the Isolation Forest anomaly detection model  \n",
    "- **Evaluation**: Post-hoc validation of flagged anomalies against known fraud labels\n",
    "\n",
    "## Intended Audience\n",
    "\n",
    "This notebook is intended for:\n",
    "\n",
    "- Data scientists and machine learning practitioners developing fraud detection models  \n",
    "- Fraud and risk analysts looking to explore unsupervised learning methods  \n",
    "- Fintech professionals and compliance teams seeking scalable anomaly detection strategies  \n",
    "- Recruiters and hiring managers evaluating applied machine learning project work\n"
   ]
  },
  {
   "cell_type": "code",
   "execution_count": null,
   "id": "4e91b934-5556-4e79-94b6-be94bde1ce58",
   "metadata": {
    "id": "4e91b934-5556-4e79-94b6-be94bde1ce58"
   },
   "outputs": [],
   "source": []
  },
  {
   "cell_type": "markdown",
   "id": "d4e088af-1ceb-44e3-ac45-e3154ac6453c",
   "metadata": {
    "id": "765a9cca-681a-4529-aee5-50cba09944bd"
   },
   "source": [
    "## Step 1: Load and Examine the Dataset\n",
    "\n",
    "We begin by loading the **BankSim dataset**, which contains over 590,000 simulated banking transactions. Before building any models, it’s essential to explore and understand the structure of the dataset.\n"
   ]
  },
  {
   "cell_type": "code",
   "execution_count": null,
   "id": "1b7957e4-cea0-4a8f-911e-3489558c4278",
   "metadata": {
    "id": "1b7957e4-cea0-4a8f-911e-3489558c4278",
    "outputId": "9d2c0c2a-1897-44a6-9b84-5f9aa053559b"
   },
   "outputs": [
    {
     "name": "stdout",
     "output_type": "stream",
     "text": [
      "   step       customer  age gender zipcodeOri       merchant zipMerchant  \\\n",
      "0     0  'C1093826151'  '4'    'M'    '28007'   'M348934600'     '28007'   \n",
      "1     0   'C352968107'  '2'    'M'    '28007'   'M348934600'     '28007'   \n",
      "2     0  'C2054744914'  '4'    'F'    '28007'  'M1823072687'     '28007'   \n",
      "3     0  'C1760612790'  '3'    'M'    '28007'   'M348934600'     '28007'   \n",
      "4     0   'C757503768'  '5'    'M'    '28007'   'M348934600'     '28007'   \n",
      "\n",
      "              category  amount  fraud  \n",
      "0  'es_transportation'    4.55      0  \n",
      "1  'es_transportation'   39.68      0  \n",
      "2  'es_transportation'   26.89      0  \n",
      "3  'es_transportation'   17.25      0  \n",
      "4  'es_transportation'   35.72      0  \n",
      "<class 'pandas.core.frame.DataFrame'>\n",
      "RangeIndex: 594643 entries, 0 to 594642\n",
      "Data columns (total 10 columns):\n",
      " #   Column       Non-Null Count   Dtype  \n",
      "---  ------       --------------   -----  \n",
      " 0   step         594643 non-null  int64  \n",
      " 1   customer     594643 non-null  object \n",
      " 2   age          594643 non-null  object \n",
      " 3   gender       594643 non-null  object \n",
      " 4   zipcodeOri   594643 non-null  object \n",
      " 5   merchant     594643 non-null  object \n",
      " 6   zipMerchant  594643 non-null  object \n",
      " 7   category     594643 non-null  object \n",
      " 8   amount       594643 non-null  float64\n",
      " 9   fraud        594643 non-null  int64  \n",
      "dtypes: float64(1), int64(2), object(7)\n",
      "memory usage: 45.4+ MB\n",
      "None\n"
     ]
    },
    {
     "data": {
      "text/plain": [
       "fraud\n",
       "0    0.987892\n",
       "1    0.012108\n",
       "Name: proportion, dtype: float64"
      ]
     },
     "execution_count": 20,
     "metadata": {},
     "output_type": "execute_result"
    }
   ],
   "source": [
    "import pandas as pd\n",
    "\n",
    "df = pd.read_csv('banksim.csv')\n",
    "print(df.head())\n",
    "print(df.info())\n",
    "df['fraud'].value_counts(normalize=True)"
   ]
  },
  {
   "cell_type": "markdown",
   "id": "a533ae2c-2065-4731-8842-cd7d6c40cd55",
   "metadata": {
    "id": "588b82eb-f8d4-4de0-b2cc-4035282987ad"
   },
   "source": [
    "### Why This Step Is Important:\n",
    "- `df.head()` shows the first few rows so we can confirm the dataset loaded properly and inspect individual features.\n",
    "\n",
    "- `df.info()` helps us understand:\n",
    "\n",
    "    - The number of entries (594,643)\n",
    "\n",
    "    - The data types of each column (e.g., integer, float, object)\n",
    "\n",
    "    - Whether there are any missing values (none found — great!)\n",
    "\n",
    "- `value_counts(normalize=True)` helps us measure the proportion of fraudulent transactions.\n",
    "\n",
    "### Key Observations:\n",
    "- ✅ The dataset has 594,643 transactions with 10 columns.\n",
    "\n",
    "- ✅ There are no missing values in any column.\n",
    "\n",
    "- ✅ Only ~1.2% of transactions are labeled as fraudulent (fraud = 1), which is consistent with the real-world rarity of financial fraud."
   ]
  },
  {
   "cell_type": "code",
   "execution_count": null,
   "id": "0dfc610a-28ee-480e-ac89-95bf76eaf34c",
   "metadata": {
    "id": "0dfc610a-28ee-480e-ac89-95bf76eaf34c"
   },
   "outputs": [],
   "source": []
  },
  {
   "cell_type": "markdown",
   "id": "a178c584-2414-475d-b5f7-7bcd7d3484be",
   "metadata": {
    "id": "a178c584-2414-475d-b5f7-7bcd7d3484be"
   },
   "source": [
    "## 🧹 Step 2: Clean and Prepare the Dataset\n",
    "\n",
    "Before we can apply any machine learning models, we need to clean and structure the dataset for analysis.\n",
    "\n",
    "In this step, we will:\n",
    "\n",
    "- Drop non-informative or high-cardinality columns\n",
    "- Encode categorical variables into numeric format\n",
    "- Prepare the data for feature engineering and modeling\n",
    "\n",
    "---\n",
    "\n",
    "### 🧼 What We’re Doing:\n",
    "\n",
    "Some columns like `customer`, `merchant`, `zipcodeOri`, and `zipMerchant` contain unique or semi-unique identifiers that do not carry meaningful predictive value for anomaly detection. Including them could introduce noise or overfitting, so we remove them.\n",
    "\n",
    "Next, we convert the remaining categorical columns (`category`, `age`, `gender`) into numeric codes using `.astype('category').cat.codes`. This is necessary because machine learning algorithms typically require numerical input.\n",
    "\n",
    "---\n",
    "\n",
    "### 🧠 Why This Step Matters:\n",
    "\n",
    "- Dropping ID-like columns helps prevent the model from learning **account-specific patterns** rather than **behavioral signals**.\n",
    "- Encoding categorical variables allows us to feed the data into algorithms like **Isolation Forest** later on.\n",
    "- This step ensures we keep only the features that describe **transactional behavior**, which is what anomaly detection is designed to evaluate.\n",
    "\n",
    "---\n",
    "\n",
    "> Once this step is complete, we’ll be ready to engineer features that reveal potential check kiting activity.\n"
   ]
  },
  {
   "cell_type": "code",
   "execution_count": null,
   "id": "5a8b340b-d30b-4dbd-9d44-5abc1d18e9aa",
   "metadata": {
    "id": "5a8b340b-d30b-4dbd-9d44-5abc1d18e9aa",
    "outputId": "e190d8b0-15a0-4583-8c27-f4cde3d985f7"
   },
   "outputs": [
    {
     "name": "stdout",
     "output_type": "stream",
     "text": [
      "   step  age  gender  category  amount  fraud\n",
      "0     0    4       2        12    4.55      0\n",
      "1     0    2       2        12   39.68      0\n",
      "2     0    4       1        12   26.89      0\n",
      "3     0    3       2        12   17.25      0\n",
      "4     0    5       2        12   35.72      0\n"
     ]
    }
   ],
   "source": [
    "df_cleaned = df.drop(['customer', 'merchant', 'zipcodeOri', 'zipMerchant'], axis=1)\n",
    "df_cleaned['category'] = df_cleaned['category'].astype('category').cat.codes\n",
    "df_cleaned['gender'] = df_cleaned['gender'].astype('category').cat.codes\n",
    "df_cleaned['age'] = df_cleaned['age'].astype('category').cat.codes\n",
    "\n",
    "print(df_cleaned.head())"
   ]
  },
  {
   "cell_type": "markdown",
   "id": "e60589da-7a4e-4648-a31a-d3afb9f6f31d",
   "metadata": {
    "id": "e60589da-7a4e-4648-a31a-d3afb9f6f31d"
   },
   "source": [
    "### 💡 Explanation:\n",
    "- **Dropped Columns:**\n",
    "\n",
    "    - `customer`, `merchant`, `zipcodeOri`, and `zipMerchant` are dropped because they serve as unique or semi-unique IDs.\n",
    "\n",
    "    - These features don't generalize across accounts and might bias the model toward memorizing patterns instead of detecting behavioral anomalies.\n",
    "\n",
    "- **Encoded Categorical Features:**\n",
    "\n",
    "    - `category`, `gender`, and `age` are originally string/object types.\n",
    "\n",
    "    - These are converted into numerical codes using `.astype('category').cat.codes` so they can be used by the machine learning model.\n",
    "\n",
    "### 👀 Output Review:\n",
    "The `df_cleaned.head()` output shows that all variables are now numeric. For example:\n",
    "\n",
    "- `'F'` and `'M'` in gender have become values like 0 and 1.\n",
    "\n",
    "- Each category (e.g., `es_transportation`) is represented by a number (e.g., 12).\n",
    "\n",
    "- The dataset now includes only meaningful, numeric fields that describe **behavior**, not identity.\n",
    "\n"
   ]
  },
  {
   "cell_type": "code",
   "execution_count": null,
   "id": "0f81c5de-ea0d-4b6e-bbad-cc8839b6322b",
   "metadata": {
    "id": "0f81c5de-ea0d-4b6e-bbad-cc8839b6322b"
   },
   "outputs": [],
   "source": []
  },
  {
   "cell_type": "markdown",
   "id": "e49cb2f3-7637-4e32-be57-05613fdf07cb",
   "metadata": {
    "id": "e49cb2f3-7637-4e32-be57-05613fdf07cb"
   },
   "source": [
    "## 🧮 Step 3: Create Customer-Level Behavioral Features\n",
    "\n",
    "To identify check kiting fraud, we need to detect **unusual behavioral patterns** at the account level, not just individual transactions.\n",
    "\n",
    "Check kiting typically involves:\n",
    "- A **high volume of transactions**\n",
    "- Repeated movement of money in **short, predictable time intervals**\n",
    "- **Low variability** in transaction amounts (to maintain the illusion of stability)\n",
    "- Significant **total volume** of money transferred\n",
    "\n",
    "---\n",
    "\n",
    "### 🛠️ What This Code Does\n",
    "\n",
    "We aggregate the transaction data by customer using `.groupby('customer').agg(...)`, calculating:\n",
    "\n",
    "- `tx_count`: Number of total transactions per customer\n",
    "- `tx_step_std`: Standard deviation in time (`step`) — lower values suggest regular, repetitive behavior\n",
    "- `tx_sum`: Total amount moved\n",
    "- `tx_avg`: Average transaction amount\n",
    "- `tx_amt_std`: Standard deviation of transaction amounts — lower variability may indicate scripting or cycling behavior\n",
    "\n",
    "\n"
   ]
  },
  {
   "cell_type": "code",
   "execution_count": null,
   "id": "288c12d5-d7d3-4646-b262-1e3cc3202a37",
   "metadata": {
    "id": "288c12d5-d7d3-4646-b262-1e3cc3202a37",
    "outputId": "21abc0eb-afba-4583-ea01-c1ff15b36587"
   },
   "outputs": [
    {
     "data": {
      "text/html": [
       "<div>\n",
       "<style scoped>\n",
       "    .dataframe tbody tr th:only-of-type {\n",
       "        vertical-align: middle;\n",
       "    }\n",
       "\n",
       "    .dataframe tbody tr th {\n",
       "        vertical-align: top;\n",
       "    }\n",
       "\n",
       "    .dataframe thead th {\n",
       "        text-align: right;\n",
       "    }\n",
       "</style>\n",
       "<table border=\"1\" class=\"dataframe\">\n",
       "  <thead>\n",
       "    <tr style=\"text-align: right;\">\n",
       "      <th></th>\n",
       "      <th>customer</th>\n",
       "      <th>tx_count</th>\n",
       "      <th>tx_step_std</th>\n",
       "      <th>tx_sum</th>\n",
       "      <th>tx_avg</th>\n",
       "      <th>tx_amt_std</th>\n",
       "    </tr>\n",
       "  </thead>\n",
       "  <tbody>\n",
       "    <tr>\n",
       "      <th>0</th>\n",
       "      <td>'C1000148617'</td>\n",
       "      <td>131</td>\n",
       "      <td>40.826652</td>\n",
       "      <td>4597.04</td>\n",
       "      <td>35.091908</td>\n",
       "      <td>36.863536</td>\n",
       "    </tr>\n",
       "    <tr>\n",
       "      <th>1</th>\n",
       "      <td>'C100045114'</td>\n",
       "      <td>109</td>\n",
       "      <td>43.704938</td>\n",
       "      <td>9846.65</td>\n",
       "      <td>90.336239</td>\n",
       "      <td>381.812802</td>\n",
       "    </tr>\n",
       "    <tr>\n",
       "      <th>2</th>\n",
       "      <td>'C1000699316'</td>\n",
       "      <td>94</td>\n",
       "      <td>35.752001</td>\n",
       "      <td>3586.56</td>\n",
       "      <td>38.154894</td>\n",
       "      <td>41.544414</td>\n",
       "    </tr>\n",
       "    <tr>\n",
       "      <th>3</th>\n",
       "      <td>'C1001065306'</td>\n",
       "      <td>30</td>\n",
       "      <td>43.885496</td>\n",
       "      <td>6142.64</td>\n",
       "      <td>204.754667</td>\n",
       "      <td>306.240251</td>\n",
       "    </tr>\n",
       "    <tr>\n",
       "      <th>4</th>\n",
       "      <td>'C1002658784'</td>\n",
       "      <td>131</td>\n",
       "      <td>42.194366</td>\n",
       "      <td>4487.18</td>\n",
       "      <td>34.253282</td>\n",
       "      <td>27.820062</td>\n",
       "    </tr>\n",
       "  </tbody>\n",
       "</table>\n",
       "</div>"
      ],
      "text/plain": [
       "        customer  tx_count  tx_step_std   tx_sum      tx_avg  tx_amt_std\n",
       "0  'C1000148617'       131    40.826652  4597.04   35.091908   36.863536\n",
       "1   'C100045114'       109    43.704938  9846.65   90.336239  381.812802\n",
       "2  'C1000699316'        94    35.752001  3586.56   38.154894   41.544414\n",
       "3  'C1001065306'        30    43.885496  6142.64  204.754667  306.240251\n",
       "4  'C1002658784'       131    42.194366  4487.18   34.253282   27.820062"
      ]
     },
     "execution_count": 39,
     "metadata": {},
     "output_type": "execute_result"
    }
   ],
   "source": [
    "# NOTE: If you've dropped 'customer' already, you'll need to do this BEFORE dropping it\n",
    "\n",
    "# Reload original data with customer included, if necessary\n",
    "df_raw = pd.read_csv('banksim.csv')\n",
    "\n",
    "# Aggregate features by customer\n",
    "features = df_raw.groupby('customer').agg({\n",
    "    'step': ['count', 'std'],\n",
    "    'amount': ['sum', 'mean', 'std']\n",
    "}).reset_index()\n",
    "\n",
    "# Rename columns for readability\n",
    "features.columns = ['customer', 'tx_count', 'tx_step_std', 'tx_sum', 'tx_avg', 'tx_amt_std']\n",
    "\n",
    "# Preview results\n",
    "features.head()"
   ]
  },
  {
   "cell_type": "markdown",
   "id": "bb932595-51ea-40ca-b80c-557246b96550",
   "metadata": {
    "id": "bb932595-51ea-40ca-b80c-557246b96550"
   },
   "source": [
    "### 📊 Commentary on the Output\n",
    "\n",
    "- Some accounts (e.g., C1001065306) show very high average amounts with low transaction counts, suggesting concentrated high-value activity.\n",
    "\n",
    "- Others (like C1000148617) have many smaller transactions with moderate variability.\n",
    "\n",
    "- Accounts with low `tx_step_std` and `low tx_amt_std` may be engaging in systematic, suspicious behavior, a pattern consistent with check kiting schemes."
   ]
  },
  {
   "cell_type": "code",
   "execution_count": null,
   "id": "6abbf670-d66e-44a7-b09e-6fc9d4a60413",
   "metadata": {
    "id": "6abbf670-d66e-44a7-b09e-6fc9d4a60413"
   },
   "outputs": [],
   "source": []
  },
  {
   "cell_type": "markdown",
   "id": "22f58039-363c-42d4-9f04-b6530538b9aa",
   "metadata": {
    "id": "22f58039-363c-42d4-9f04-b6530538b9aa"
   },
   "source": [
    "## 🤖 Step 4: Train Isolation Forest for Anomaly Detection\n",
    "\n",
    "Now that we’ve engineered customer-level behavioral features, we’ll apply an **unsupervised machine learning algorithm** to flag anomalous activity.\n",
    "\n",
    "---\n",
    "\n",
    "### 🌲 What is Isolation Forest?\n",
    "\n",
    "Isolation Forest is an anomaly detection model that works by **randomly splitting features** to isolate observations. It’s especially well-suited for large datasets and skewed distributions like fraud detection.\n",
    "\n",
    "- Normal data points take **more steps to isolate**\n",
    "- Anomalous points are **isolated quickly** and flagged as outliers\n",
    "\n",
    "---\n",
    "\n"
   ]
  },
  {
   "cell_type": "code",
   "execution_count": null,
   "id": "3859e108-de8d-46a7-aede-8de13aadd2cc",
   "metadata": {
    "id": "3859e108-de8d-46a7-aede-8de13aadd2cc",
    "outputId": "ea61a72a-223d-4b7f-a977-80c5c415613e"
   },
   "outputs": [
    {
     "name": "stdout",
     "output_type": "stream",
     "text": [
      "anomaly\n",
      " 1    4091\n",
      "-1      21\n",
      "Name: count, dtype: int64\n"
     ]
    },
    {
     "data": {
      "text/html": [
       "<div>\n",
       "<style scoped>\n",
       "    .dataframe tbody tr th:only-of-type {\n",
       "        vertical-align: middle;\n",
       "    }\n",
       "\n",
       "    .dataframe tbody tr th {\n",
       "        vertical-align: top;\n",
       "    }\n",
       "\n",
       "    .dataframe thead th {\n",
       "        text-align: right;\n",
       "    }\n",
       "</style>\n",
       "<table border=\"1\" class=\"dataframe\">\n",
       "  <thead>\n",
       "    <tr style=\"text-align: right;\">\n",
       "      <th></th>\n",
       "      <th>customer</th>\n",
       "      <th>tx_count</th>\n",
       "      <th>tx_step_std</th>\n",
       "      <th>tx_sum</th>\n",
       "      <th>tx_avg</th>\n",
       "      <th>tx_amt_std</th>\n",
       "      <th>anomaly</th>\n",
       "    </tr>\n",
       "  </thead>\n",
       "  <tbody>\n",
       "    <tr>\n",
       "      <th>0</th>\n",
       "      <td>'C1000148617'</td>\n",
       "      <td>131</td>\n",
       "      <td>40.826652</td>\n",
       "      <td>4597.04</td>\n",
       "      <td>35.091908</td>\n",
       "      <td>36.863536</td>\n",
       "      <td>1</td>\n",
       "    </tr>\n",
       "    <tr>\n",
       "      <th>1</th>\n",
       "      <td>'C100045114'</td>\n",
       "      <td>109</td>\n",
       "      <td>43.704938</td>\n",
       "      <td>9846.65</td>\n",
       "      <td>90.336239</td>\n",
       "      <td>381.812802</td>\n",
       "      <td>1</td>\n",
       "    </tr>\n",
       "    <tr>\n",
       "      <th>2</th>\n",
       "      <td>'C1000699316'</td>\n",
       "      <td>94</td>\n",
       "      <td>35.752001</td>\n",
       "      <td>3586.56</td>\n",
       "      <td>38.154894</td>\n",
       "      <td>41.544414</td>\n",
       "      <td>1</td>\n",
       "    </tr>\n",
       "    <tr>\n",
       "      <th>3</th>\n",
       "      <td>'C1001065306'</td>\n",
       "      <td>30</td>\n",
       "      <td>43.885496</td>\n",
       "      <td>6142.64</td>\n",
       "      <td>204.754667</td>\n",
       "      <td>306.240251</td>\n",
       "      <td>1</td>\n",
       "    </tr>\n",
       "    <tr>\n",
       "      <th>4</th>\n",
       "      <td>'C1002658784'</td>\n",
       "      <td>131</td>\n",
       "      <td>42.194366</td>\n",
       "      <td>4487.18</td>\n",
       "      <td>34.253282</td>\n",
       "      <td>27.820062</td>\n",
       "      <td>1</td>\n",
       "    </tr>\n",
       "  </tbody>\n",
       "</table>\n",
       "</div>"
      ],
      "text/plain": [
       "        customer  tx_count  tx_step_std   tx_sum      tx_avg  tx_amt_std  \\\n",
       "0  'C1000148617'       131    40.826652  4597.04   35.091908   36.863536   \n",
       "1   'C100045114'       109    43.704938  9846.65   90.336239  381.812802   \n",
       "2  'C1000699316'        94    35.752001  3586.56   38.154894   41.544414   \n",
       "3  'C1001065306'        30    43.885496  6142.64  204.754667  306.240251   \n",
       "4  'C1002658784'       131    42.194366  4487.18   34.253282   27.820062   \n",
       "\n",
       "   anomaly  \n",
       "0        1  \n",
       "1        1  \n",
       "2        1  \n",
       "3        1  \n",
       "4        1  "
      ]
     },
     "execution_count": 50,
     "metadata": {},
     "output_type": "execute_result"
    }
   ],
   "source": [
    "from sklearn.ensemble import IsolationForest\n",
    "\n",
    "# Initialize model with small expected contamination rate (~0.5%)\n",
    "model = IsolationForest(n_estimators=100, contamination=0.005, random_state=42)\n",
    "\n",
    "# Train the model on all behavioral features\n",
    "model.fit(features.drop('customer', axis=1))\n",
    "\n",
    "# Predict anomalies: -1 = outlier, 1 = inlier\n",
    "features['anomaly'] = model.predict(features.drop('customer', axis=1))\n",
    "\n",
    "print(features['anomaly'].value_counts())\n",
    "features.head()"
   ]
  },
  {
   "cell_type": "markdown",
   "id": "675e9439-e7dc-4c76-91b9-ac41e8fef7e8",
   "metadata": {
    "id": "675e9439-e7dc-4c76-91b9-ac41e8fef7e8"
   },
   "source": [
    "### ✅ Model Output Interpretation\n",
    "\n",
    "After fitting the **Isolation Forest** model, we review the predictions by printing the `anomaly` column values and previewing the updatedatasets.\n",
    "\n",
    "🔎 What the Output Tells Us:\n",
    "\n",
    "- 1 indicates normal accounts — 4,091 customers were not flagged.\n",
    "\n",
    "- -1 indicates anomalous accounts — only 21 customers were flagged as suspicious.\n",
    "\n",
    "This matches the contamination=0.005 parameter we passed earlier (0.5% of ~4,112 total customers ≈ 20).t:\n"
   ]
  },
  {
   "cell_type": "markdown",
   "id": "eee647f6-94fe-43db-98aa-1086a25ffd82",
   "metadata": {
    "id": "eee647f6-94fe-43db-98aa-1086a25ffd82"
   },
   "source": [
    "### 🧠 Interpreting the `features.head()` Output\n",
    "\n",
    "We now have a new column: `anomaly`, which contains the model's prediction for each account.\n",
    "\n",
    "| customer      | tx_count | tx_step_std | tx_sum  | tx_avg | tx_amt_std | anomaly |\n",
    "|---------------|----------|-------------|---------|--------|-------------|---------|\n",
    "| C1000148617   | 131      | 40.83       | 4597.0  | 35.1   | 36.9        | 1       |\n",
    "| C1000405114   | 47       | 43.70       | 984.7   | 20.9   | 381.8       | 1       |\n",
    "| ...           | ...      | ...         | ...     | ...    | ...         | ...     |\n",
    "\n",
    "Each row now tells us not only **how a customer behaves**, but also whether that behavior is considered:\n",
    "- `1`: **Normal** by the model\n",
    "- `-1`: **Anomalous** (potentially suspicious)\n",
    "\n",
    "---\n",
    "\n",
    "### ⚠️ Why This Is Useful\n",
    "\n",
    "- **Check kiting is a behavioral fraud.**\n",
    "  - It does not appear suspicious in a single transaction.\n",
    "  - It becomes suspicious when seen as a pattern: frequent, regular, and repetitive activity.\n",
    "\n",
    "- **Isolation Forest** helps us **automatically detect these behavioral outliers**, without needing labeled fraud examples.\n",
    "\n",
    "- The accounts marked with `anomaly = -1` are now our **fraud candidates**, flagged <u>solely by their transactional behavior; not by any prior fraud label.</u>\n",
    "\n",
    "> In the next step, we’ll **visualize the differences** between normal and anomalous accounts so we can better understand what the model is seeing; and explain its decisions to others.\n"
   ]
  },
  {
   "cell_type": "code",
   "execution_count": null,
   "id": "2072a239-7066-4889-9480-60f59bca159a",
   "metadata": {
    "id": "2072a239-7066-4889-9480-60f59bca159a"
   },
   "outputs": [],
   "source": []
  },
  {
   "cell_type": "markdown",
   "id": "ecfe4b0d-d6fc-4f06-99ac-7edad510bc0e",
   "metadata": {
    "id": "ecfe4b0d-d6fc-4f06-99ac-7edad510bc0e"
   },
   "source": [
    "## 📊 Visualizing Transaction Patterns for Anomalies\n",
    "\n",
    "To understand why certain accounts were flagged as anomalous, we can visualize how their **average transaction amount (`tx_avg`)** differs from the rest of the population.\n",
    "\n",
    "Box plots are useful for this because they show **distribution, central tendency, and outliers** across categories.\n",
    "\n",
    "---\n",
    "\n",
    "\n"
   ]
  },
  {
   "cell_type": "code",
   "execution_count": null,
   "id": "be3f9c18-e6db-4bc1-9014-0b3549cf3f27",
   "metadata": {
    "id": "be3f9c18-e6db-4bc1-9014-0b3549cf3f27",
    "outputId": "e07fc795-64f6-4cf5-a454-3364f72d6d8d"
   },
   "outputs": [
    {
     "data": {
      "text/plain": [
       "<Axes: xlabel='anomaly', ylabel='tx_avg'>"
      ]
     },
     "execution_count": 63,
     "metadata": {},
     "output_type": "execute_result"
    },
    {
     "data": {
      "image/png": "[encoded data removed]",
      "text/plain": [
       "<Figure size 640x480 with 1 Axes>"
      ]
     },
     "metadata": {},
     "output_type": "display_data"
    }
   ],
   "source": [
    "import seaborn as sns\n",
    "sns.boxplot(x='anomaly', y='tx_avg', data=features)"
   ]
  },
  {
   "cell_type": "markdown",
   "id": "c1f55de0-89d3-4719-898e-ed7801f90a4f",
   "metadata": {
    "id": "c1f55de0-89d3-4719-898e-ed7801f90a4f"
   },
   "source": [
    "This creates a box plot comparing the distribution of `tx_avg` between:\n",
    "\n",
    "- `anomaly = 1`: Accounts considered normal\n",
    "\n",
    "- `anomaly = -1`: Accounts flagged as suspicious\n",
    "\n",
    "### 🧠 Why We’re Doing This\n",
    "We want to **interpret the model's decision-making** by comparing flagged accounts to typical behavior. Specifically, we're asking:\n",
    "\n",
    "- Do flagged accounts have **significantly higher or lower transaction averages**?\n",
    "\n",
    "- Are they outliers in how they move money?\n",
    "\n",
    "If we see that flagged accounts have a different distribution from normal ones, it validates that the model is picking up on **behavioral differences**, not random noise.\n",
    "\n",
    "## 📌 What the Output Tells Us\n",
    "- Accounts flagged as **anomalies** (`-1`) tend to have **much higher average transaction values** compared to the rest.\n",
    "\n",
    "- This is consistent with **check kiting behavior**, where <u>large transactions are cycled to create the illusion of available funds.</u>\n",
    "\n",
    "- The **normal accounts** (`1`) cluster around much smaller average values, with many tightly packed low-amount users.\n",
    "\n",
    "This gives us confidence that the model is identifying **high-value behavioral outliers**, which are good candidates for further investigation.\n",
    "\n",
    "In the next step, we’ll explore other features like `tx_step_std` and `tx_amt_std` to further analyze what sets these accounts apart."
   ]
  },
  {
   "cell_type": "code",
   "execution_count": null,
   "id": "606a2f47-cd42-4d65-9e90-0e53a366fbfc",
   "metadata": {
    "id": "606a2f47-cd42-4d65-9e90-0e53a366fbfc"
   },
   "outputs": [],
   "source": []
  },
  {
   "cell_type": "markdown",
   "id": "4732eef1-a9f4-4da4-ba57-6606bb75684a",
   "metadata": {
    "id": "4732eef1-a9f4-4da4-ba57-6606bb75684a"
   },
   "source": [
    "## 📊 Comparing Transaction Timing Variability (`tx_step_std`)\n",
    "\n",
    "Now that we’ve seen average transaction amounts differ significantly between flagged and normal accounts, let’s examine another behavioral dimension: **transaction timing**.\n",
    "\n",
    "Specifically, we’re looking at `tx_step_std` — the **standard deviation of the transaction step values** (i.e., how regularly the account transacts over time).\n",
    "\n",
    "---\n",
    "\n",
    "### 🧠 Why This Matters\n",
    "\n",
    "In check kiting schemes, fraudsters often **repeat transactions in a predictable and mechanical pattern**. This reduces the standard deviation of the transaction steps — in other words, they make **transactions at regular intervals**.\n",
    "\n",
    "If we observe **lower `tx_step_std` values** in flagged accounts, it could mean:\n",
    "- The account is operating on a rigid schedule\n",
    "- There may be **automated or scripted** behavior\n",
    "- It’s a potential signal of **float exploitation** typical in check kiting\n",
    "\n",
    "---\n",
    "\n",
    "### 📌 What to Look For\n",
    "Are `-1` (flagged) accounts less variable in their timing?\n",
    "\n",
    "Is there a **visible separation** between the flagged and normal account distributions?\n",
    "\n",
    "Do flagged accounts look like **behavioral outliers**, not just numerical anomalies?\n",
    "\n",
    "After this, we’ll compare `tx_amt_std` (amount variability) to see whether flagged accounts are also repeating the **same amounts** — another classic sign of scripting and float manipulation.\n"
   ]
  },
  {
   "cell_type": "code",
   "execution_count": null,
   "id": "2e794937-4bff-4fd2-845a-9e13c453171e",
   "metadata": {
    "id": "2e794937-4bff-4fd2-845a-9e13c453171e",
    "outputId": "8c3dbf5d-b877-4a03-d010-19fd4262d4e5"
   },
   "outputs": [
    {
     "data": {
      "text/plain": [
       "<Axes: xlabel='anomaly', ylabel='tx_step_std'>"
      ]
     },
     "execution_count": 68,
     "metadata": {},
     "output_type": "execute_result"
    },
    {
     "data": {
      "image/png": "[encoded data removed]",
      "text/plain": [
       "<Figure size 640x480 with 1 Axes>"
      ]
     },
     "metadata": {},
     "output_type": "display_data"
    }
   ],
   "source": [
    "sns.boxplot(x='anomaly', y='tx_step_std', data=features)"
   ]
  },
  {
   "cell_type": "markdown",
   "id": "28867be8-f4ce-4f72-beaf-a4fe6d22b9f0",
   "metadata": {
    "id": "28867be8-f4ce-4f72-beaf-a4fe6d22b9f0"
   },
   "source": [
    "### 📊 Interpreting Transaction Timing Variability (`tx_step_std`)\n",
    "\n",
    "This box plot compares **transaction step standard deviation** between flagged (`anomaly = -1`) and normal (`anomaly = 1`) accounts.\n",
    "\n",
    "\n"
   ]
  },
  {
   "cell_type": "markdown",
   "id": "b67229bd-3a09-48ce-9a7c-659aa8cd4ca0",
   "metadata": {
    "id": "b67229bd-3a09-48ce-9a7c-659aa8cd4ca0"
   },
   "source": [
    "### 📌 What the Output Tells Us\n",
    "\n",
    "- Flagged accounts (`-1`) show a **lower median `tx_step_std`** than normal accounts.\n",
    "- This indicates that flagged accounts **transact more consistently** — with **less variation in timing**.\n",
    "- Normal accounts (`1`) exhibit a **wider spread** and **more variability** in their transaction timing.\n",
    "- This supports the hypothesis that **check kiting behavior is more structured**, with transactions happening on a **repeatable, possibly automated schedule** — consistent with efforts to **exploit float windows**.\n",
    "\n",
    "---\n",
    "\n",
    "### 🧠 Why This Is Useful\n",
    "\n",
    "- Lower timing variability is a red flag for **synthetic behavior**.\n",
    "- Consistent, clockwork-like activity often suggests a **non-human or fraud-driven intent**.\n",
    "- This aligns well with what we expect from **float exploitation schemes**, where **precise timing is critical** to success.\n",
    "\n",
    "> We’ve now seen how flagged accounts differ in both **average transaction size** and **transaction timing**.  \n",
    "> In the next step, we’ll analyze **transaction amount variability** to complete the behavioral profile.\n"
   ]
  },
  {
   "cell_type": "code",
   "execution_count": null,
   "id": "8894a0ac-0285-46b6-a74d-b929079d2965",
   "metadata": {
    "id": "8894a0ac-0285-46b6-a74d-b929079d2965"
   },
   "outputs": [],
   "source": []
  },
  {
   "cell_type": "markdown",
   "id": "ae1f9ca1-01b0-4c00-909e-ae80f0dfbc7b",
   "metadata": {
    "id": "ae1f9ca1-01b0-4c00-909e-ae80f0dfbc7b"
   },
   "source": [
    "## 🎯 Goal: Visualize `tx_amt_std` (Transaction Amount Variability)\n",
    "We want to see if anomalous accounts tend to have **low variability in transaction amounts**, which may suggest scripting or controlled float behavior. Fraudsters often use **fixed or repeat amounts** when cycling funds between accounts — a key behavioral flag in check kiting schemes."
   ]
  },
  {
   "cell_type": "code",
   "execution_count": null,
   "id": "ba08e497-ec91-4cb8-90f5-aece2029267b",
   "metadata": {
    "id": "ba08e497-ec91-4cb8-90f5-aece2029267b",
    "outputId": "76f2f7fc-fae0-4c75-f872-ae5c6b69a500"
   },
   "outputs": [
    {
     "data": {
      "image/png": "[encoded data removed]",
      "text/plain": [
       "<Figure size 640x480 with 1 Axes>"
      ]
     },
     "metadata": {},
     "output_type": "display_data"
    }
   ],
   "source": [
    "import seaborn as sns\n",
    "import matplotlib.pyplot as plt\n",
    "\n",
    "# Box plot: Transaction amount variability by anomaly flag\n",
    "sns.boxplot(x='anomaly', y='tx_amt_std', data=features)\n",
    "plt.title('Transaction Amount Variability by Anomaly Label')\n",
    "plt.xlabel('Anomaly (-1 = Outlier, 1 = Normal)')\n",
    "plt.ylabel('Transaction Amount Standard Deviation')\n",
    "plt.show()"
   ]
  },
  {
   "cell_type": "markdown",
   "id": "7a1d4dfb-8c0a-41dc-8197-99d3527a5db3",
   "metadata": {
    "id": "7a1d4dfb-8c0a-41dc-8197-99d3527a5db3"
   },
   "source": [
    "### 📊 Transaction Amount Variability (`tx_amt_std`) by Anomaly Label\n",
    "\n",
    "This plot helps us understand how **consistent or variable** the transaction amounts are for flagged vs. non-flagged accounts.\n",
    "\n"
   ]
  },
  {
   "cell_type": "markdown",
   "id": "42a7c546-31a9-4903-80ba-7bfe42bba16d",
   "metadata": {
    "id": "42a7c546-31a9-4903-80ba-7bfe42bba16d"
   },
   "source": [
    "### 📌 What the Output Tells Us\n",
    "\n",
    "- Flagged accounts (`-1`) have **significantly higher variability** in transaction amounts.\n",
    "- Normal accounts (`1`) cluster around **very low standard deviations**, with many accounts making transactions of roughly the same value.\n",
    "- This suggests that flagged accounts exhibit a **much broader range of transaction amounts** — possibly alternating between **large deposits and small withdrawals**, or vice versa.\n",
    "- It may also indicate **staggered float manipulation**, where varying amounts are used to **mask systematic cycling behavior**.\n",
    "\n",
    "---\n",
    "\n",
    "### 🧠 Why This Is Useful\n",
    "\n",
    "- While **low variability (`tx_amt_std`)** can suggest scripting, **high variability** in this dataset seems to **distinguish the most suspicious accounts**.\n",
    "- This aligns with one form of **check kiting**, where the fraudster **tests float limits** by alternating values across cycles.\n",
    "- Combined with the previously observed behaviors —  \n",
    "  ✅ **High average amounts**  \n",
    "  ✅ **Lower timing variability**  \n",
    "  ✅ **Extreme amount variability**  \n",
    "\n",
    "— this adds weight to the model’s decision and provides a **3-dimensional behavioral profile**.\n",
    "\n",
    "> Together, these characteristics define the **behavioral fingerprint of likely check kiters** in this dataset.\n"
   ]
  },
  {
   "cell_type": "code",
   "execution_count": null,
   "id": "259578a0-8dd3-4e02-a1ec-8e36b267d05e",
   "metadata": {
    "id": "259578a0-8dd3-4e02-a1ec-8e36b267d05e"
   },
   "outputs": [],
   "source": []
  },
  {
   "cell_type": "code",
   "execution_count": null,
   "id": "18ee4f72-48fa-4aec-b500-9bb71e90e294",
   "metadata": {
    "id": "6e572736-332f-4f88-9b34-21e33a9f329c"
   },
   "outputs": [],
   "source": [
    "## ✅ Final Summary and Wrap-Up\n",
    "\n",
    "In this project, we explored how **unsupervised machine learning** techniques can be used to detect **check kiting fraud**, a behavioral pattern that often goes unnoticed in transactional monitoring.\n",
    "\n",
    "We used the `BankSim` dataset to simulate how real-world financial institutions might approach this problem.\n",
    "\n",
    "---\n",
    "\n",
    "### 🧠 What We Did\n",
    "\n",
    "1. **Loaded and explored real-world financial data**\n",
    "   - Identified extreme class imbalance (fraud rate ~1.2%)\n",
    "   - Cleaned and encoded categorical variables\n",
    "\n",
    "2. **Engineered customer-level behavioral features**\n",
    "   - Total transaction count\n",
    "   - Timing variability (`tx_step_std`)\n",
    "   - Average and total amount\n",
    "   - Amount variability (`tx_amt_std`)\n",
    "\n",
    "3. **Trained an Isolation Forest model**\n",
    "   - No labels were used for training (unsupervised)\n",
    "   - Flagged 21 accounts as anomalies based on behavior\n",
    "\n",
    "4. **Visualized and interpreted flagged accounts**\n",
    "   - Flagged accounts showed:\n",
    "     - **Higher average transaction amounts**\n",
    "     - **Lower variability in transaction timing**\n",
    "     - **Higher variability in transaction amounts**\n",
    "\n",
    "---\n",
    "\n",
    "### 📌 Key Takeaways\n",
    "\n",
    "- **Check kiting is a behavioral fraud**, often missed by rule-based or supervised systems.\n",
    "- **Isolation Forest** is a fast and scalable unsupervised method ideal for this type of detection.\n",
    "- **Behavioral feature engineering is critical** — the model can only detect what you define and feed it.\n",
    "- **Interpretability matters**: Through visualizations, we were able to understand and validate model behavior.\n",
    "\n",
    "---\n",
    "\n",
    "### 🧭 What Comes Next?\n",
    "\n",
    "- **Human review** of flagged accounts for confirmation and investigation.\n",
    "- Use this process to inform **risk scoring models** or **real-time alerting systems**.\n",
    "- Extend this analysis by:\n",
    "  - Adding time-series sequence models (e.g., LSTMs)\n",
    "  - Integrating external data (e.g., device, location, login patterns)\n",
    "  - Combining supervised and unsupervised approaches\n",
    "\n",
    "---\n",
    "\n",
    "> This demo showcased how data science can uncover hidden patterns in transactional data — giving fraud analysts a powerful head start against behavioral threats like check kiting.\n"
   ]
  },
  {
   "cell_type": "code",
   "execution_count": null,
   "id": "2448f5a3-abb9-4622-9645-8c4ffb9a6d0f",
   "metadata": {
    "id": "2448f5a3-abb9-4622-9645-8c4ffb9a6d0f"
   },
   "outputs": [],
   "source": []
  }
 ],
 "metadata": {
  "colab": {
   "provenance": []
  },
  "kernelspec": {
   "display_name": "Python [conda env:base] *",
   "language": "python",
   "name": "conda-base-py"
  },
  "language_info": {
   "codemirror_mode": {
    "name": "ipython",
    "version": 3
   },
   "file_extension": ".py",
   "mimetype": "text/x-python",
   "name": "python",
   "nbconvert_exporter": "python",
   "pygments_lexer": "ipython3",
   "version": "3.12.7"
  }
 },
 "nbformat": 4,
 "nbformat_minor": 5
}
